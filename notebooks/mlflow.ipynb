{
 "cells": [
  {
   "cell_type": "code",
   "execution_count": 22,
   "metadata": {},
   "outputs": [],
   "source": [
    "import mlflow\n",
    "from src.mlflow_utils import HyperNodeMLFlow, EnvironmentGenerator, get_code_paths\n",
    "from src.hypernodes import HyperNode\n",
    "import pandas as pd"
   ]
  },
  {
   "cell_type": "code",
   "execution_count": 23,
   "metadata": {},
   "outputs": [
    {
     "data": {
      "text/plain": [
       "<Experiment: artifact_location='file:///c:/python_workspace/pdf_extract/mlruns/920054831142091747', creation_time=1723992897632, experiment_id='920054831142091747', last_update_time=1723992897632, lifecycle_stage='active', name='hypernodes', tags={}>"
      ]
     },
     "execution_count": 23,
     "metadata": {},
     "output_type": "execute_result"
    }
   ],
   "source": [
    "mlflow.set_experiment(\"hypernodes\")"
   ]
  },
  {
   "cell_type": "code",
   "execution_count": 24,
   "metadata": {},
   "outputs": [],
   "source": [
    "rag_node = HyperNode.load(\"src/nodes/rag_qa\")"
   ]
  },
  {
   "cell_type": "code",
   "execution_count": 25,
   "metadata": {},
   "outputs": [],
   "source": [
    "overrides = {\"llm_model\" : \"mini\"}"
   ]
  },
  {
   "cell_type": "code",
   "execution_count": 26,
   "metadata": {},
   "outputs": [],
   "source": [
    "model = HyperNodeMLFlow(rag_node, final_vars=[\"llm_response\"], overrides=overrides)"
   ]
  },
  {
   "cell_type": "markdown",
   "metadata": {},
   "source": [
    "# Define Artifacts"
   ]
  },
  {
   "cell_type": "code",
   "execution_count": 27,
   "metadata": {},
   "outputs": [],
   "source": [
    "artifacts = {\"texts_path\" : \"data/raw\", \n",
    "             \"env_file\" : \".env\"}"
   ]
  },
  {
   "cell_type": "markdown",
   "metadata": {},
   "source": [
    "# Test Class"
   ]
  },
  {
   "cell_type": "code",
   "execution_count": 38,
   "metadata": {},
   "outputs": [
    {
     "data": {
      "text/plain": [
       "'2017'"
      ]
     },
     "execution_count": 38,
     "metadata": {},
     "output_type": "execute_result"
    }
   ],
   "source": [
    "model_input = pd.DataFrame({\"query\" : [\"What year was the transformer architecture introduced?\"]})\n",
    "class Context:\n",
    "    def __init__(self, artifacts):\n",
    "        self.artifacts = artifacts\n",
    "        \n",
    "context = Context(artifacts)\n",
    "model.predict(context=context, model_input=model_input)"
   ]
  },
  {
   "cell_type": "markdown",
   "metadata": {},
   "source": [
    "# Define Environment"
   ]
  },
  {
   "cell_type": "code",
   "execution_count": 29,
   "metadata": {},
   "outputs": [],
   "source": [
    "env = EnvironmentGenerator(env_name=\"hypernodes\", \n",
    "                           dependency_file=\"requirements.txt\")\n",
    "conda_env = env.get_conda_environment_dict()"
   ]
  },
  {
   "cell_type": "markdown",
   "metadata": {},
   "source": [
    "# Add source files"
   ]
  },
  {
   "cell_type": "code",
   "execution_count": 30,
   "metadata": {},
   "outputs": [],
   "source": [
    "code_paths = get_code_paths(folders=[\"src\"], suffix=\".py\")"
   ]
  },
  {
   "cell_type": "code",
   "execution_count": 31,
   "metadata": {},
   "outputs": [
    {
     "data": {
      "text/plain": [
       "['c:\\\\python_workspace\\\\pdf_extract\\\\src\\\\app.py',\n",
       " 'c:\\\\python_workspace\\\\pdf_extract\\\\src\\\\hypernodes.py',\n",
       " 'c:\\\\python_workspace\\\\pdf_extract\\\\src\\\\mlflow_utils.py',\n",
       " 'c:\\\\python_workspace\\\\pdf_extract\\\\src\\\\nodes\\\\batch_qa\\\\batch_qa_dag.py',\n",
       " 'c:\\\\python_workspace\\\\pdf_extract\\\\src\\\\nodes\\\\batch_qa\\\\batch_qa_hp_config.py',\n",
       " 'c:\\\\python_workspace\\\\pdf_extract\\\\src\\\\nodes\\\\rag_qa\\\\rag_qa_dag.py',\n",
       " 'c:\\\\python_workspace\\\\pdf_extract\\\\src\\\\nodes\\\\rag_qa\\\\rag_qa_hp_config.py',\n",
       " 'c:\\\\python_workspace\\\\pdf_extract\\\\src\\\\nodes\\\\sklearn_ranker\\\\sklearn_ranker_dag.py',\n",
       " 'c:\\\\python_workspace\\\\pdf_extract\\\\src\\\\nodes\\\\sklearn_ranker\\\\sklearn_ranker_hp_config.py']"
      ]
     },
     "execution_count": 31,
     "metadata": {},
     "output_type": "execute_result"
    }
   ],
   "source": [
    "code_paths"
   ]
  },
  {
   "cell_type": "markdown",
   "metadata": {},
   "source": [
    "# Log Model"
   ]
  },
  {
   "cell_type": "code",
   "execution_count": 32,
   "metadata": {},
   "outputs": [
    {
     "name": "stderr",
     "output_type": "stream",
     "text": [
      "Downloading artifacts: 100%|██████████| 1/1 [00:00<00:00, 500.04it/s]\n",
      "Downloading artifacts: 100%|██████████| 1/1 [00:00<00:00, 1000.79it/s]\n",
      "c:\\Users\\GiladRubin\\miniconda3\\envs\\pdf-env\\Lib\\site-packages\\_distutils_hack\\__init__.py:17: UserWarning: Distutils was imported before Setuptools, but importing Setuptools also replaces the `distutils` module in `sys.modules`. This may lead to undesirable behaviors or errors. To avoid these issues, avoid using distutils directly, ensure that setuptools is installed in the traditional way (e.g. not an editable install), and/or make sure that setuptools is always imported before distutils.\n",
      "  warnings.warn(\n",
      "c:\\Users\\GiladRubin\\miniconda3\\envs\\pdf-env\\Lib\\site-packages\\_distutils_hack\\__init__.py:32: UserWarning: Setuptools is replacing distutils. Support for replacing an already imported distutils is deprecated. In the future, this condition will fail. Register concerns at https://github.com/pypa/setuptools/issues/new?template=distutils-deprecation.yml\n",
      "  warnings.warn(\n",
      "2024/08/20 12:15:02 WARNING mlflow.models.model: Input example should be provided to infer model signature if the model signature is not provided when logging the model.\n",
      "Registered model 'pdf-model' already exists. Creating a new version of this model...\n",
      "Created version '7' of model 'pdf-model'.\n"
     ]
    }
   ],
   "source": [
    "import mlflow\n",
    "\n",
    "with mlflow.start_run():\n",
    "    log_res = mlflow.pyfunc.log_model(\n",
    "        artifact_path=\"model\",\n",
    "        python_model=model,\n",
    "        artifacts=artifacts,\n",
    "        conda_env=conda_env,\n",
    "        code_paths=code_paths,\n",
    "    )\n",
    "    model_uri = f\"runs:/{log_res.run_id}/model\"\n",
    "    model_reg = mlflow.register_model(model_uri, \"pdf-model\")"
   ]
  },
  {
   "cell_type": "markdown",
   "metadata": {},
   "source": [
    "# Test Model Locally"
   ]
  },
  {
   "cell_type": "code",
   "execution_count": 33,
   "metadata": {},
   "outputs": [
    {
     "name": "stdout",
     "output_type": "stream",
     "text": [
      "CPU times: total: 0 ns\n",
      "Wall time: 135 ms\n"
     ]
    }
   ],
   "source": [
    "%%time\n",
    "mlflow_model = mlflow.pyfunc.load_model(model_uri)"
   ]
  },
  {
   "cell_type": "code",
   "execution_count": 36,
   "metadata": {},
   "outputs": [],
   "source": [
    "input_example = pd.DataFrame({\"query\" : [\"What year was the transformer architecture introduced?\"]})"
   ]
  },
  {
   "cell_type": "code",
   "execution_count": 37,
   "metadata": {},
   "outputs": [
    {
     "data": {
      "text/plain": [
       "'2017'"
      ]
     },
     "execution_count": 37,
     "metadata": {},
     "output_type": "execute_result"
    }
   ],
   "source": [
    "mlflow_model.predict(input_example)"
   ]
  }
 ],
 "metadata": {
  "kernelspec": {
   "display_name": "pdf-env",
   "language": "python",
   "name": "python3"
  },
  "language_info": {
   "codemirror_mode": {
    "name": "ipython",
    "version": 3
   },
   "file_extension": ".py",
   "mimetype": "text/x-python",
   "name": "python",
   "nbconvert_exporter": "python",
   "pygments_lexer": "ipython3",
   "version": "3.11.9"
  }
 },
 "nbformat": 4,
 "nbformat_minor": 2
}
