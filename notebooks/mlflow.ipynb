{
 "cells": [
  {
   "cell_type": "code",
   "execution_count": 1,
   "metadata": {},
   "outputs": [],
   "source": [
    "import mlflow\n",
    "from src.mlflow_utils import HyperNodeMLFlow, EnvironmentGenerator, get_code_paths\n",
    "from src.hypernodes import HyperNode\n",
    "import pandas as pd"
   ]
  },
  {
   "cell_type": "code",
   "execution_count": 2,
   "metadata": {},
   "outputs": [
    {
     "data": {
      "text/plain": [
       "<Experiment: artifact_location='file:///c:/python_workspace/hypernodes-demo/mlruns/425819731381642893', creation_time=1724146491228, experiment_id='425819731381642893', last_update_time=1724146491228, lifecycle_stage='active', name='hypernodes', tags={}>"
      ]
     },
     "execution_count": 2,
     "metadata": {},
     "output_type": "execute_result"
    }
   ],
   "source": [
    "mlflow.set_experiment(\"hypernodes\")"
   ]
  },
  {
   "cell_type": "code",
   "execution_count": 3,
   "metadata": {},
   "outputs": [
    {
     "data": {
      "text/plain": [
       "{'llm_response': 'Retrieval-augmented'}"
      ]
     },
     "execution_count": 3,
     "metadata": {},
     "output_type": "execute_result"
    }
   ],
   "source": [
    "rag_node = HyperNode.load(\"src/nodes/rag_qa\")\n",
    "rag_node.instantiate_inputs(selections={\"llm_model\" : \"sonnet\"}, \n",
    "                            overrides={\"ranker.top_k\" : 3})\n",
    "rag_node.execute([\"llm_response\"], inputs=rag_node._instantiated_inputs) # type: ignore"
   ]
  },
  {
   "cell_type": "code",
   "execution_count": 4,
   "metadata": {},
   "outputs": [],
   "source": [
    "overrides = {\"llm_model\" : \"mini\"}"
   ]
  },
  {
   "cell_type": "code",
   "execution_count": 5,
   "metadata": {},
   "outputs": [],
   "source": [
    "model = HyperNodeMLFlow(rag_node, final_vars=[\"llm_response\"], overrides=overrides)"
   ]
  },
  {
   "cell_type": "markdown",
   "metadata": {},
   "source": [
    "# Define Artifacts"
   ]
  },
  {
   "cell_type": "code",
   "execution_count": 6,
   "metadata": {},
   "outputs": [],
   "source": [
    "artifacts = {\"texts_path\" : \"data/raw\", \n",
    "             \"env_file\" : \".env\"}"
   ]
  },
  {
   "cell_type": "markdown",
   "metadata": {},
   "source": [
    "# Test Class"
   ]
  },
  {
   "cell_type": "code",
   "execution_count": 7,
   "metadata": {},
   "outputs": [
    {
     "data": {
      "text/plain": [
       "'2017'"
      ]
     },
     "execution_count": 7,
     "metadata": {},
     "output_type": "execute_result"
    }
   ],
   "source": [
    "model_input = pd.DataFrame({\"query\" : [\"What year was the transformer architecture introduced?\"]})\n",
    "class Context:\n",
    "    def __init__(self, artifacts):\n",
    "        self.artifacts = artifacts\n",
    "        \n",
    "context = Context(artifacts)\n",
    "model.predict(context=context, model_input=model_input)"
   ]
  },
  {
   "cell_type": "markdown",
   "metadata": {},
   "source": [
    "# Define Environment"
   ]
  },
  {
   "cell_type": "code",
   "execution_count": 8,
   "metadata": {},
   "outputs": [],
   "source": [
    "env = EnvironmentGenerator(env_name=\"hypernodes\", \n",
    "                           dependency_file=\"requirements.txt\")\n",
    "conda_env = env.get_conda_environment_dict()"
   ]
  },
  {
   "cell_type": "markdown",
   "metadata": {},
   "source": [
    "# Add source files"
   ]
  },
  {
   "cell_type": "code",
   "execution_count": 9,
   "metadata": {},
   "outputs": [],
   "source": [
    "code_paths = get_code_paths(folders=[\"src\"], suffix=\".py\")"
   ]
  },
  {
   "cell_type": "code",
   "execution_count": 10,
   "metadata": {},
   "outputs": [
    {
     "data": {
      "text/plain": [
       "['c:\\\\python_workspace\\\\hypernodes-demo\\\\src\\\\app.py',\n",
       " 'c:\\\\python_workspace\\\\hypernodes-demo\\\\src\\\\hypernodes.py',\n",
       " 'c:\\\\python_workspace\\\\hypernodes-demo\\\\src\\\\mlflow_utils.py',\n",
       " 'c:\\\\python_workspace\\\\hypernodes-demo\\\\src\\\\__init__.py',\n",
       " 'c:\\\\python_workspace\\\\hypernodes-demo\\\\src\\\\nodes\\\\batch_qa\\\\batch_qa_dag.py',\n",
       " 'c:\\\\python_workspace\\\\hypernodes-demo\\\\src\\\\nodes\\\\batch_qa\\\\batch_qa_hp_config.py',\n",
       " 'c:\\\\python_workspace\\\\hypernodes-demo\\\\src\\\\nodes\\\\rag_qa\\\\rag_qa_dag.py',\n",
       " 'c:\\\\python_workspace\\\\hypernodes-demo\\\\src\\\\nodes\\\\rag_qa\\\\rag_qa_hp_config.py',\n",
       " 'c:\\\\python_workspace\\\\hypernodes-demo\\\\src\\\\nodes\\\\sklearn_ranker\\\\sklearn_ranker_dag.py',\n",
       " 'c:\\\\python_workspace\\\\hypernodes-demo\\\\src\\\\nodes\\\\sklearn_ranker\\\\sklearn_ranker_hp_config.py']"
      ]
     },
     "execution_count": 10,
     "metadata": {},
     "output_type": "execute_result"
    }
   ],
   "source": [
    "code_paths"
   ]
  },
  {
   "cell_type": "markdown",
   "metadata": {},
   "source": [
    "# Log Model"
   ]
  },
  {
   "cell_type": "code",
   "execution_count": 11,
   "metadata": {},
   "outputs": [
    {
     "name": "stderr",
     "output_type": "stream",
     "text": [
      "c:\\Users\\GiladRubin\\miniconda3\\envs\\pdf-env\\Lib\\site-packages\\tqdm\\auto.py:21: TqdmWarning: IProgress not found. Please update jupyter and ipywidgets. See https://ipywidgets.readthedocs.io/en/stable/user_install.html\n",
      "  from .autonotebook import tqdm as notebook_tqdm\n",
      "Downloading artifacts: 100%|██████████| 1/1 [00:00<00:00, 992.97it/s]\n",
      "Downloading artifacts: 100%|██████████| 1/1 [00:00<00:00, 1000.79it/s]\n",
      "2024/08/20 17:41:15 WARNING mlflow.models.model: Input example should be provided to infer model signature if the model signature is not provided when logging the model.\n",
      "Registered model 'pdf-model' already exists. Creating a new version of this model...\n",
      "Created version '2' of model 'pdf-model'.\n"
     ]
    }
   ],
   "source": [
    "import mlflow\n",
    "\n",
    "with mlflow.start_run():\n",
    "    log_res = mlflow.pyfunc.log_model(\n",
    "        artifact_path=\"model\",\n",
    "        python_model=model,\n",
    "        artifacts=artifacts,\n",
    "        conda_env=conda_env,\n",
    "        code_paths=code_paths,\n",
    "    )\n",
    "    model_uri = f\"runs:/{log_res.run_id}/model\"\n",
    "    model_reg = mlflow.register_model(model_uri, \"pdf-model\")"
   ]
  },
  {
   "cell_type": "markdown",
   "metadata": {},
   "source": [
    "# Test Model Locally"
   ]
  },
  {
   "cell_type": "code",
   "execution_count": 12,
   "metadata": {},
   "outputs": [
    {
     "name": "stdout",
     "output_type": "stream",
     "text": [
      "CPU times: total: 0 ns\n",
      "Wall time: 152 ms\n"
     ]
    }
   ],
   "source": [
    "%%time\n",
    "mlflow_model = mlflow.pyfunc.load_model(model_uri)"
   ]
  },
  {
   "cell_type": "code",
   "execution_count": 13,
   "metadata": {},
   "outputs": [],
   "source": [
    "input_example = pd.DataFrame({\"query\" : [\"What year was the transformer architecture introduced?\"]})"
   ]
  },
  {
   "cell_type": "code",
   "execution_count": 14,
   "metadata": {},
   "outputs": [
    {
     "data": {
      "text/plain": [
       "'2017'"
      ]
     },
     "execution_count": 14,
     "metadata": {},
     "output_type": "execute_result"
    }
   ],
   "source": [
    "mlflow_model.predict(input_example)"
   ]
  }
 ],
 "metadata": {
  "kernelspec": {
   "display_name": "pdf-env",
   "language": "python",
   "name": "python3"
  },
  "language_info": {
   "codemirror_mode": {
    "name": "ipython",
    "version": 3
   },
   "file_extension": ".py",
   "mimetype": "text/x-python",
   "name": "python",
   "nbconvert_exporter": "python",
   "pygments_lexer": "ipython3",
   "version": "3.11.9"
  }
 },
 "nbformat": 4,
 "nbformat_minor": 2
}
